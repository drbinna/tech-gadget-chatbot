{
  "nbformat": 4,
  "nbformat_minor": 0,
  "metadata": {
    "colab": {
      "provenance": []
    },
    "kernelspec": {
      "name": "python3",
      "display_name": "Python 3"
    },
    "language_info": {
      "name": "python"
    }
  },
  "cells": [
    {
      "cell_type": "markdown",
      "source": [
        "# 🤖 Tech Gadget Customer Support Chatbot (Lab)\n",
        "\n",
        "Welcome to your Generative AI lab! In this project, you'll create a **rule-based chatbot** that simulates a customer support assistant for a fictional product: **SmartHome Hub Pro**.\n",
        "\n",
        "---\n",
        "\n",
        "### 💡 Objectives:\n",
        "- Respond to questions about product info, shipping, returns, and troubleshooting\n",
        "- Use simple keyword matching\n",
        "- Practice basic chatbot logic in Python\n",
        "\n",
        "> 🛑 To exit the chatbot loop, type `exit`, `quit`, or `bye`\n"
      ],
      "metadata": {
        "id": "rhJbe7VnqY_V"
      }
    },
    {
      "cell_type": "markdown",
      "source": [
        "### 🧪 Try These Sample Queries\n",
        "\n",
        "You can test the chatbot by typing questions or phrases related to the SmartHome Hub Pro.\n",
        "\n",
        "Here are some examples that will trigger responses:\n",
        "\n",
        "**Shipping Questions**\n",
        "- “How long does shipping take?”\n",
        "- “When will my order arrive?”\n",
        "\n",
        "**Return Questions**\n",
        "- “Can I return this product?”\n",
        "- “What’s your return policy?”\n",
        "\n",
        "**Product Info**\n",
        "- “Tell me about the product.”\n",
        "- “What is the SmartHome Hub Pro?”\n",
        "\n",
        "**Troubleshooting Help**\n",
        "- “It’s not working.”\n",
        "- “I’m having trouble with the device.”\n",
        "\n",
        "---\n",
        "\n",
        "To exit the chat, type: `exit`, `quit`, or `bye`\n"
      ],
      "metadata": {
        "id": "7xpdRkWarMXu"
      }
    },
    {
      "cell_type": "code",
      "source": [
        "# Tech Gadget Chatbot (Starter Logic)\n",
        "\n",
        "print(\"Welcome to SmartHome Hub Pro Customer Support!\")\n",
        "print(\"Type 'exit', 'quit', or 'bye' to end the chat.\\n\")\n",
        "\n",
        "while True:\n",
        "    user_input = input(\"You: \").lower()\n",
        "\n",
        "    if user_input in ['exit', 'quit', 'bye']:\n",
        "        print(\"Bot: Thank you for contacting us. Goodbye!\")\n",
        "        break\n",
        "    elif \"shipping\" in user_input:\n",
        "        print(\"Bot: Shipping usually takes 3-5 business days.\")\n",
        "    elif \"return\" in user_input:\n",
        "        print(\"Bot: You can return the product within 30 days of purchase.\")\n",
        "    elif \"product\" in user_input or \"info\" in user_input:\n",
        "        print(\"Bot: The SmartHome Hub Pro connects all your smart devices in one place!\")\n",
        "    elif \"trouble\" in user_input or \"not working\" in user_input:\n",
        "        print(\"Bot: Try restarting the device. If the issue persists, contact support.\")\n",
        "    else:\n",
        "        print(\"Bot: I'm sorry, I didn't understand that. Can you rephrase?\")\n"
      ],
      "metadata": {
        "id": "YsybIgkzqi8x"
      },
      "execution_count": null,
      "outputs": []
    }
  ]
}